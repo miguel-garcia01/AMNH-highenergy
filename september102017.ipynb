{
 "cells": [
  {
   "cell_type": "markdown",
   "metadata": {},
   "source": [
    "# Fermi Tool in Python"
   ]
  },
  {
   "cell_type": "markdown",
   "metadata": {},
   "source": [
    "## This notebook is for the use of Fermi Tools."
   ]
  },
  {
   "cell_type": "markdown",
   "metadata": {},
   "source": [
    "To be able to run any enviornment in the Jupyter Notebook you must run\n",
    ">`conda install nb_conda`\n",
    "\n",
    "continue through installation and restart Jupyter Notebook.\n",
    "\n",
    "When opening with new kernel it will prompt what enviornment to work with and you will see\n",
    ">`conda env:fermi`\n",
    "\n",
    "As with any enviornment you might need to reinstall packages\n",
    "\n",
    "\n",
    "When using Fermi please refer to Analysis Threads [here](https://fermi.gsfc.nasa.gov/ssc/data/analysis/scitools/)\n",
    "for any other issues"
   ]
  },
  {
   "cell_type": "markdown",
   "metadata": {},
   "source": [
    "# September 10, 2017 Flare\n",
    "    15:30 - 05:00\n",
    "    X8.2 GOES\n",
    "    \n",
    "The flare has its peak gamma ray emission at around 15:45-16:00  \n",
    "There is SGRE (sustained gamma ray emission) until approx 05:00"
   ]
  },
  {
   "cell_type": "markdown",
   "metadata": {},
   "source": [
    "# Import all packages and modules"
   ]
  },
  {
   "cell_type": "code",
   "execution_count": 3,
   "metadata": {},
   "outputs": [],
   "source": [
    "import time\n",
    "import math\n",
    "import matplotlib.pyplot as plt\n",
    "import numpy as np \n",
    "import pandas as pd\n",
    "from astropy.io import fits \n",
    "from astropy.time import Time\n",
    "from astropy.table import Table\n",
    "from astropy.coordinates import solar_system_ephemeris, get_body \n",
    "from gt_apps import filter, evtbin, maketime, expCube, expMap, diffResps, like, TsMap\n",
    "from coordinates import equatorial"
   ]
  },
  {
   "cell_type": "markdown",
   "metadata": {},
   "source": [
    "# **Set up all variables**"
   ]
  },
  {
   "cell_type": "markdown",
   "metadata": {},
   "source": [
    "You can also find the correct evclass, evtype and IRF [here](https://fermi.gsfc.nasa.gov/ssc/data/analysis/documentation/Cicerone/Cicerone_Data_Exploration/Data_preparation.html) here for the likilihood analysis from the Fermi Analysis Threads"
   ]
  },
  {
   "cell_type": "code",
   "execution_count": 4,
   "metadata": {},
   "outputs": [],
   "source": [
    "#files\n",
    "flaredate = 'september102017'\n",
    "flarefile = 'september102017,1530-0500'\n",
    "header_file = flarefile + '_PH00.fits'\n",
    "sc_file = flarefile + '_SC00.fits'\n",
    "data_file = flarefile + '_events.list'"
   ]
  },
  {
   "cell_type": "markdown",
   "metadata": {},
   "source": [
    "### **We run this one for solar flares IMPULSIVE PHASE**\n",
    "---\n",
    "Must make following change in GtSelect\n",
    ">`filter['tmax'] = time_start_MET + 5400`"
   ]
  },
  {
   "cell_type": "code",
   "execution_count": 5,
   "metadata": {},
   "outputs": [],
   "source": [
    "\"\"\"change the infile on gtselect to ['@' + data_file]\"\"\"\n",
    "\n",
    "evclass = 65536\n",
    "evtype = 3\n",
    "irf_name = 'iso_P8R3_TRANSIENT015S_V2_v1'\n",
    "irfs = 'P8R3_TRANSIENT015S_V2'\n",
    "filter_exp = '(DATA_QUAL>0||DATA_QUAL==-1)&&(LAT_CONFIG==1)'\n",
    "optimizer = 'NewMinuit'\n",
    "roicut = 'yes'"
   ]
  },
  {
   "cell_type": "markdown",
   "metadata": {},
   "source": [
    "### **We run this one for solar flares EXTENDED EMISSION (point sources)**\n",
    "---\n",
    "Must make following change in GtSelect\n",
    ">`filter['tmin'] = time_start_MET + 5400`"
   ]
  },
  {
   "cell_type": "code",
   "execution_count": null,
   "metadata": {},
   "outputs": [],
   "source": [
    "evclass = 128\n",
    "evtype = 3\n",
    "irf_name = 'iso_P8R3_SOURCE_V2_v1'\n",
    "irfs = 'P8R3_SOURCE_V2'\n",
    "filter_exp = '(DATA_QUAL>0)&&(LAT_CONFIG==1)'\n",
    "optimizer = 'NewMinuit'\n",
    "roicut = 'no'"
   ]
  },
  {
   "cell_type": "markdown",
   "metadata": {},
   "source": [
    "## **Select Parameters**"
   ]
  },
  {
   "cell_type": "code",
   "execution_count": 6,
   "metadata": {},
   "outputs": [],
   "source": [
    "#get parameters from Fermi photon event file\n",
    "hdulist = fits.open(header_file)\n",
    "hdu = hdulist[1]\n",
    "\n",
    "roi_data = (hdu.header['DSVAL3']).split(',')\n",
    "roi = int(float(((roi_data[2])[:-1]))) #degrees\n",
    "time_start = Time(hdu.header['DATE-OBS'], format='fits')\n",
    "time_end = Time(hdu.header['DATE-END'], format='fits') \n",
    "time_step = 0.5 #in units of days\n",
    "time_start_MET = hdu.header['TSTART'] #MET (s)\n",
    "time_end_MET = hdu.header['TSTOP'] #MET (s)\n",
    "\n",
    "\n",
    "dec = float((roi_data[1])) #degrees\n",
    "ra = float(((roi_data[0])[7:])) #degrees\n",
    "energyrange = (hdu.header['DSVAL5']).split(':')\n",
    "emin = float(energyrange[0]) #MeV\n",
    "emax = float(energyrange[1]) #MeV\n",
    "num_bins = int(math.log10(emax/emin)*10)\n",
    "zmax = 100 #deg\n",
    "bin_size = 0.2 #deg/pix\n",
    "dim = int((2*roi)/bin_size) #gives dimension of cmap diameter/bin size = num pixels\n",
    "\n",
    "hdulist.close()"
   ]
  },
  {
   "cell_type": "markdown",
   "metadata": {},
   "source": [
    "## **GtSelect**"
   ]
  },
  {
   "cell_type": "code",
   "execution_count": 7,
   "metadata": {},
   "outputs": [
    {
     "name": "stdout",
     "output_type": "stream",
     "text": [
      "time -p gtselect infile=@september102017,1530-0500_events.list outfile=september102017_flare.fits ra=168.86425 dec=4.786 rad=10.0 tmin=526750205.0 tmax=526755605.0 emin=100.0 emax=500000.0 zmin=0.0 zmax=100.0 evclass=65536 evtype=3 convtype=-1 phasemin=0.0 phasemax=1.0 evtable=\"EVENTS\" chatter=2 clobber=yes debug=no gui=no mode=\"ql\"\n",
      "\n",
      "WARNING: version mismatch between CFITSIO header (v3.43) and linked library (v3.41).\n",
      "\n",
      "Done.\n",
      "real 1.90\n",
      "user 1.33\n",
      "sys 0.15\n"
     ]
    }
   ],
   "source": [
    "filtered_file = flaredate + '_flare.fits'\n",
    "filter['evclass'] = evclass\n",
    "filter['evtype'] = evtype\n",
    "filter['ra'] = ra\n",
    "filter['dec'] = dec\n",
    "filter['rad'] = roi\n",
    "filter['emin'] = emin\n",
    "filter['emax'] = emax\n",
    "filter['zmax'] = zmax\n",
    "filter['tmin'] = time_start_MET\n",
    "filter['tmax'] = time_start_MET + 5400\n",
    "filter['infile'] = '@' + data_file\n",
    "filter['outfile'] = filtered_file\n",
    "filter.run()"
   ]
  },
  {
   "cell_type": "markdown",
   "metadata": {},
   "source": [
    "## **GtMaketime**"
   ]
  },
  {
   "cell_type": "code",
   "execution_count": 8,
   "metadata": {},
   "outputs": [
    {
     "name": "stdout",
     "output_type": "stream",
     "text": [
      "time -p gtmktime scfile=september102017,1530-0500_SC00.fits sctable=\"SC_DATA\" filter=\"(DATA_QUAL>0||DATA_QUAL==-1)&&(LAT_CONFIG==1)\" roicut=yes evfile=september102017_flare.fits evtable=\"EVENTS\" outfile=\"september102017_flare_gti.fits\" apply_filter=yes overwrite=no header_obstimes=yes tstart=0.0 tstop=0.0 gtifile=\"default\" chatter=2 clobber=yes debug=no gui=no mode=\"ql\"\n",
      "\n",
      "WARNING: version mismatch between CFITSIO header (v3.43) and linked library (v3.41).\n",
      "\n",
      "real 0.44\n",
      "user 0.32\n",
      "sys 0.11\n"
     ]
    }
   ],
   "source": [
    "gti_file = flaredate + '_flare_gti.fits'\n",
    "maketime['scfile'] = sc_file\n",
    "maketime['filter'] = filter_exp\n",
    "maketime['roicut'] = roicut\n",
    "maketime['evfile'] = filtered_file\n",
    "maketime['outfile'] = gti_file\n",
    "maketime.run()"
   ]
  },
  {
   "cell_type": "markdown",
   "metadata": {},
   "source": [
    "## **GtExposureCube**"
   ]
  },
  {
   "cell_type": "code",
   "execution_count": 9,
   "metadata": {},
   "outputs": [
    {
     "name": "stdout",
     "output_type": "stream",
     "text": [
      "time -p gtltcube evfile=\"september102017_flare_gti.fits\" evtable=\"EVENTS\" scfile=september102017,1530-0500_SC00.fits sctable=\"SC_DATA\" outfile=september102017_flare_lt.fits dcostheta=0.025 binsz=1.0 phibins=0 tmin=0.0 tmax=0.0 file_version=\"1\" zmin=0.0 zmax=100.0 chatter=2 clobber=yes debug=no gui=no mode=\"ql\"\n",
      "\n",
      "WARNING: version mismatch between CFITSIO header (v3.43) and linked library (v3.41).\n",
      "\n",
      "Working on file september102017,1530-0500_SC00.fits\n",
      "........................!\n",
      "real 0.93\n",
      "user 0.72\n",
      "sys 0.25\n"
     ]
    }
   ],
   "source": [
    "ltcube_file = flaredate + '_flare_lt.fits'\n",
    "expCube['evfile'] = gti_file\n",
    "expCube['scfile'] = sc_file\n",
    "expCube['outfile'] = ltcube_file\n",
    "expCube['zmax'] = zmax\n",
    "expCube['dcostheta'] = 0.025\n",
    "expCube['binsz'] = 1\n",
    "expCube.run() "
   ]
  },
  {
   "cell_type": "markdown",
   "metadata": {},
   "source": [
    "## **GtExposureMap**"
   ]
  },
  {
   "cell_type": "code",
   "execution_count": 10,
   "metadata": {},
   "outputs": [
    {
     "name": "stdout",
     "output_type": "stream",
     "text": [
      "time -p gtexpmap evfile=september102017_flare_gti.fits evtable=\"EVENTS\" scfile=september102017,1530-0500_SC00.fits sctable=\"SC_DATA\" expcube=september102017_flare_lt.fits outfile=september102017_flare_expmap.fits irfs=\"P8R3_TRANSIENT015S_V2\" evtype=\"INDEF\" srcrad=20.0 nlong=100 nlat=100 nenergies=35 submap=no nlongmin=0 nlongmax=0 nlatmin=0 nlatmax=0 chatter=2 clobber=yes debug=no gui=no mode=\"ql\"\n",
      "\n",
      "WARNING: version mismatch between CFITSIO header (v3.43) and linked library (v3.41).\n",
      "\n",
      "The exposure maps generated by this tool are meant\n",
      "to be used for *unbinned* likelihood analysis only.\n",
      "Do not use them for binned analyses.\n",
      "Computing the ExposureMap using september102017_flare_lt.fits\n",
      "....................!\n",
      "real 315.95\n",
      "user 291.56\n",
      "sys 10.32\n"
     ]
    }
   ],
   "source": [
    "expmap_file = flaredate + '_flare_expmap.fits'\n",
    "expMap['evfile'] = gti_file\n",
    "expMap['scfile'] = sc_file\n",
    "expMap['expcube'] = ltcube_file\n",
    "expMap['outfile'] = expmap_file\n",
    "expMap['irfs'] = irfs\n",
    "expMap['srcrad'] = 20\n",
    "expMap['nlong'] = dim\n",
    "expMap['nlat'] = dim\n",
    "expMap['nenergies'] = 35\n",
    "expMap.run()"
   ]
  },
  {
   "cell_type": "markdown",
   "metadata": {},
   "source": [
    "## **Generate XML Model**"
   ]
  },
  {
   "cell_type": "markdown",
   "metadata": {},
   "source": [
    "make sure to go to [here](https://fermi.gsfc.nasa.gov/ssc/data/access/lat/BackgroundModels.html) to download the appropriate model from the Fermi Analysis Threads"
   ]
  },
  {
   "cell_type": "code",
   "execution_count": 11,
   "metadata": {},
   "outputs": [
    {
     "name": "stdout",
     "output_type": "stream",
     "text": [
      "This is make4FGLxml version 01r05.\n",
      "The default diffuse model files and names are for pass 8 and 4FGL and assume you have v11r5p3 of the Fermi Science Tools or higher.\n",
      "Warning: september102017flare_model.xml already exists, file will be overwritten if you proceed with makeModel.\n",
      "Creating file and adding sources from 4FGL\n",
      "Added 138 point sources and 0 extended sources\n"
     ]
    }
   ],
   "source": [
    "from make4FGLxml import *\n",
    "mymodel = srcList('gll_psc_v21.fit',gti_file,flaredate + 'flare_model.xml')\n",
    "mymodel.makeModel('gll_iem_v07.fits', 'gll_iem_v07', irf_name + '.txt', irf_name)"
   ]
  },
  {
   "cell_type": "markdown",
   "metadata": {},
   "source": [
    "## **GtDiffuseResponse**"
   ]
  },
  {
   "cell_type": "code",
   "execution_count": null,
   "metadata": {},
   "outputs": [
    {
     "name": "stdout",
     "output_type": "stream",
     "text": [
      "time -p gtdiffrsp evfile=september102017_flare_gti.fits evtable=\"EVENTS\" scfile=september102017,1530-0500_SC00.fits sctable=\"SC_DATA\" srcmdl=september102017flare_model.xml irfs=\"P8R3_TRANSIENT015S_V2\" evclsmin=0 evclass=\"INDEF\" evtype=\"INDEF\" convert=no chatter=2 clobber=no debug=no gui=no mode=\"ql\"\n"
     ]
    }
   ],
   "source": [
    "diffResps['evfile'] = gti_file\n",
    "diffResps['scfile'] = sc_file\n",
    "diffResps['srcmdl'] = flaredate + 'flare_model.xml'\n",
    "diffResps['irfs'] = irfs\n",
    "diffResps.run()"
   ]
  },
  {
   "cell_type": "markdown",
   "metadata": {},
   "source": [
    "## **GtLike**"
   ]
  },
  {
   "cell_type": "code",
   "execution_count": null,
   "metadata": {},
   "outputs": [],
   "source": [
    "import pyLikelihood\n",
    "from UnbinnedAnalysis import *\n",
    "obs = UnbinnedObs(gti_file,sc_file,expMap=expmap_file,expCube=ltcube_file,irfs=irfs)\n",
    "like = UnbinnedAnalysis(obs,flaredate + 'flare_model.xml',optimizer=optimizer)"
   ]
  },
  {
   "cell_type": "code",
   "execution_count": null,
   "metadata": {},
   "outputs": [],
   "source": [
    "obs"
   ]
  },
  {
   "cell_type": "code",
   "execution_count": null,
   "metadata": {},
   "outputs": [],
   "source": [
    "print(like.tol)\n",
    "print(like.tolType)\n",
    "like.tol = 0.0001"
   ]
  },
  {
   "cell_type": "code",
   "execution_count": null,
   "metadata": {},
   "outputs": [],
   "source": [
    "likeobj = pyLike.NewMinuit(like.logLike)\n",
    "like.fit(verbosity=0,covar=True,optObject=likeobj)"
   ]
  },
  {
   "cell_type": "code",
   "execution_count": null,
   "metadata": {},
   "outputs": [],
   "source": [
    "like.plot()"
   ]
  },
  {
   "cell_type": "code",
   "execution_count": null,
   "metadata": {},
   "outputs": [],
   "source": [
    "likeobj.getRetCode()"
   ]
  },
  {
   "cell_type": "code",
   "execution_count": null,
   "metadata": {},
   "outputs": [],
   "source": [
    "import matplotlib.pyplot as plt\n",
    "import numpy as np"
   ]
  },
  {
   "cell_type": "code",
   "execution_count": null,
   "metadata": {},
   "outputs": [],
   "source": [
    "E = (like.energies[:-1] + like.energies[1:])/2.\n",
    "#The 'energies' array are the endpoints so we take the midpoint of the bins.\n",
    "plt.figure(figsize=(5,5))\n",
    "plt.ylim((0.4,1e4))\n",
    "plt.xlim((200,300000))\n",
    "sum_model = np.zeros_like(like._srcCnts(like.sourceNames()[0]))\n",
    "for sourceName in like.sourceNames():\n",
    "    sum_model = sum_model + like._srcCnts(sourceName)\n",
    "    plt.loglog(E,like._srcCnts(sourceName),label=sourceName[1:])\n",
    "plt.loglog(E,sum_model,label='Total Model')\n",
    "plt.errorbar(E,like._Nobs(),yerr=np.sqrt(like._Nobs()), fmt='o',label='Counts')\n",
    "ax = plt.gca()\n",
    "box = ax.get_position()\n",
    "ax.set_position([box.x0, box.y0, box.width * 0.5, box.height])\n",
    "plt.legend(bbox_to_anchor=(1.05, 1), loc=2, borderaxespad=0.)\n",
    "plt.show()"
   ]
  },
  {
   "cell_type": "code",
   "execution_count": null,
   "metadata": {},
   "outputs": [],
   "source": [
    "resid = (like._Nobs() - sum_model)/sum_model\n",
    "resid_err = (np.sqrt(like._Nobs())/sum_model)\n",
    "plt.figure(figsize=(9,9))\n",
    "plt.xscale('log')\n",
    "plt.errorbar(E,resid,yerr=resid_err,fmt='o')\n",
    "plt.axhline(0.0,ls=':')\n",
    "plt.show()"
   ]
  },
  {
   "cell_type": "code",
   "execution_count": null,
   "metadata": {},
   "outputs": [],
   "source": [
    "like.model['']"
   ]
  }
 ],
 "metadata": {
  "kernelspec": {
   "display_name": "Python [conda env:fermi]",
   "language": "python",
   "name": "conda-env-fermi-py"
  },
  "language_info": {
   "codemirror_mode": {
    "name": "ipython",
    "version": 2
   },
   "file_extension": ".py",
   "mimetype": "text/x-python",
   "name": "python",
   "nbconvert_exporter": "python",
   "pygments_lexer": "ipython2",
   "version": "2.7.14"
  }
 },
 "nbformat": 4,
 "nbformat_minor": 4
}
